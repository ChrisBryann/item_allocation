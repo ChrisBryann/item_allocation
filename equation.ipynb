{
 "cells": [
  {
   "cell_type": "markdown",
   "metadata": {},
   "source": [
    "Let:\n",
    "- $x_{ij}$ be a binary decision variable where $x_{ij} = 1$ if item $i$ is assigned to category $j$, and $x_{ij} = 0$ otherwise.\n",
    "- $p_i$ be the price of item $i$.\n",
    "- $c_j$ be the price limit of category $j$.\n",
    "\n",
    "The objective is to minimize or maximize a linear objective function. Since there is no specific objective mentioned in your problem statement, we can simply minimize the total cost.\n",
    "\n",
    "The constraints are as follows:\n",
    "1. Each item must be assigned to exactly one category:\n",
    "$$\\sum_{j} x_{ij} = 1 \\quad \\text{for all } i$$\n",
    "\n",
    "2. The total price sum of items assigned to each category must not exceed the category limit:\n",
    "$$\\sum_{i} p_i \\cdot x_{ij} \\geq c_j \\quad \\text{for all } j$$\n",
    "\n",
    "The LP formulation of this problem is:\n",
    "\n",
    "$$\n",
    "\\text{Maximize} \\quad \\sum_{i} \\sum_{j} p_i \\cdot x_{ij}\n",
    "$$\n",
    "\n",
    "Subject to:\n",
    "$$\n",
    "\\begin{align*}\n",
    "& \\sum_{j} x_{ij} = 1 \\quad && \\text{for all } i \\\\\n",
    "& \\sum_{i} p_i \\cdot x_{ij} \\leq c_j \\quad && \\text{for all } j \\\\\n",
    "& x_{ij} \\in \\{0, 1\\} \\quad && \\text{for all } i, j\n",
    "\\end{align*}\n",
    "$$"
   ]
  },
  {
   "cell_type": "markdown",
   "metadata": {},
   "source": []
  }
 ],
 "metadata": {
  "language_info": {
   "name": "python"
  }
 },
 "nbformat": 4,
 "nbformat_minor": 2
}
